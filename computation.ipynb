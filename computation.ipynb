{
 "cells": [
  {
   "cell_type": "code",
   "execution_count": null,
   "id": "3b72114a",
   "metadata": {},
   "outputs": [],
   "source": [
    "%run vehicle_count.ipynb"
   ]
  },
  {
   "cell_type": "code",
   "execution_count": null,
   "id": "ae700959",
   "metadata": {},
   "outputs": [],
   "source": [
    "count = []\n",
    "\n",
    "mul_car = 2\n",
    "mul_bus = 5\n",
    "mul_truck = 3\n",
    "mul_bike = 1\n",
    "\n",
    "def calc_ratio(counts):\n",
    "    total = 0\n",
    "    total += (counts['car']*mul_car)\n",
    "    total += (counts['bus']*mul_bus)\n",
    "    total += (counts['truck']*mul_truck)\n",
    "    total += (counts['motorbike']*mul_bike)\n",
    "    return total\n",
    "\n",
    "for i in range(4):\n",
    "    count.append(calc_ratio(vehicle_count[i]))\n",
    "    \n",
    "print(f'North weightage : {count[0]}')\n",
    "print(f'East weightage : {count[1]}')\n",
    "print(f'South weightage : {count[2]}')\n",
    "print(f'West weightage : {count[3]}')\n",
    "print()\n",
    "    \n",
    "tot = sum(count)\n",
    "for i in range(4):\n",
    "    count[i] /= tot\n",
    "    \n",
    "green_time = [round(i*180) for i in count]\n",
    "tot_time = sum(green_time) + 12\n",
    "\n",
    "signal_time = []\n",
    "\n",
    "directions = ['North', 'East', 'South', 'West']\n",
    "for i in range(4):\n",
    "    print(directions[i].upper())\n",
    "    x = []\n",
    "    print(f'Green time : {green_time[i]}sec')\n",
    "    x.append(green_time[i])\n",
    "    print('Yellow time : 3sec')\n",
    "    x.append(3)\n",
    "    print(f'Red time : {tot_time - green_time[i] - 3}sec')\n",
    "    x.append(tot_time - green_time[i] - 3)\n",
    "    print(f'Turn : {i+1}\\n')\n",
    "    signal_time.append(x)"
   ]
  },
  {
   "cell_type": "code",
   "execution_count": null,
   "id": "f361f4d6",
   "metadata": {},
   "outputs": [],
   "source": [
    "signal_time"
   ]
  },
  {
   "cell_type": "code",
   "execution_count": null,
   "id": "9e7f0851",
   "metadata": {},
   "outputs": [],
   "source": [
    "signal_seq = []\n",
    "\n",
    "for i in range(4):\n",
    "    temp = []\n",
    "    red1 = 0\n",
    "    red2 = 0\n",
    "    for j in range(i):\n",
    "        red1 += signal_time[j][0]\n",
    "        red1 += 3\n",
    "    temp.append(red1)\n",
    "    temp.append(signal_time[i][0])\n",
    "    temp.append(3)\n",
    "    for j in range(i+1, 4):\n",
    "        red2 += signal_time[j][0]\n",
    "        red2 += 3\n",
    "    temp.append(red2)\n",
    "    signal_seq.append(temp)"
   ]
  },
  {
   "cell_type": "code",
   "execution_count": null,
   "id": "36d9332a",
   "metadata": {},
   "outputs": [],
   "source": [
    "def print_signal_time(direc, signaltime):\n",
    "    print(Style.BRIGHT + direc)\n",
    "    print(Fore.RED + Style.BRIGHT + f'{signaltime[0]} sec')\n",
    "    print(Fore.GREEN + Style.BRIGHT + f'{signaltime[1]} sec')\n",
    "    print(Fore.YELLOW + Style.BRIGHT + f'{signaltime[2]} sec')\n",
    "    print(Fore.RED + Style.BRIGHT + f'{signaltime[3]} sec')\n",
    "    print(Style.RESET_ALL)\n",
    "    \n",
    "print_signal_time('NORTH', signal_seq[0])\n",
    "print_signal_time('EAST', signal_seq[1])\n",
    "print_signal_time('SOUTH', signal_seq[2])\n",
    "print_signal_time('WEST', signal_seq[3])"
   ]
  },
  {
   "cell_type": "code",
   "execution_count": null,
   "id": "22b1dc78",
   "metadata": {},
   "outputs": [],
   "source": [
    "# signal = signal_seq[0].copy()\n",
    "# tottime = sum(signal_seq[0])\n",
    "# remtime = tottime\n",
    "# i = 0\n",
    "# timesum = signal[0]\n",
    "# while tottime:  \n",
    "#     if signal[i] == 0:\n",
    "#         i += 1\n",
    "#     if i >= 4:\n",
    "#         break\n",
    "#     if i == 0:\n",
    "#         timer = '{:02d}'.format(signal[0])\n",
    "#         print(Fore.RED + timer, end=\"\\r\")\n",
    "#     elif i == 1:\n",
    "#         timer2 = '{:02d}'.format(signal[1])\n",
    "#         print(Fore.GREEN + timer2, end=\"\\r\")\n",
    "#     elif i == 2:\n",
    "#         timer3 = '{:02d}'.format(signal[2])\n",
    "#         print(Fore.YELLOW + timer3, end=\"\\r\")\n",
    "#     elif i == 3:\n",
    "#         timer4 = '{:02d}'.format(signal[3])\n",
    "#         print(Fore.RED + timer4, end=\"\\r\")\n",
    "#     time.sleep(1)\n",
    "#     tottime -= 1\n",
    "#     signal[i] -= 1"
   ]
  }
 ],
 "metadata": {
  "kernelspec": {
   "display_name": "Python 3 (ipykernel)",
   "language": "python",
   "name": "python3"
  },
  "language_info": {
   "codemirror_mode": {
    "name": "ipython",
    "version": 3
   },
   "file_extension": ".py",
   "mimetype": "text/x-python",
   "name": "python",
   "nbconvert_exporter": "python",
   "pygments_lexer": "ipython3",
   "version": "3.9.12"
  }
 },
 "nbformat": 4,
 "nbformat_minor": 5
}
